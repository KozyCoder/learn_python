{
 "cells": [
  {
   "attachments": {},
   "cell_type": "markdown",
   "metadata": {},
   "source": [
    "DIFFERENCE BETWEEN LAMDA AND DEF\n",
    "\n",
    "* lambda is an expression, not a statement</br>\n",
    "* lambda's body is a single expression, not a block of statements</br>\n",
    "\n",
    "Apart from those distinctions, defs and lambdas do the same sort of work.</br>\n",
    "For instance, we've seen how to make a function with a def statement:"
   ]
  },
  {
   "cell_type": "code",
   "execution_count": null,
   "metadata": {},
   "outputs": [],
   "source": [
    "def func(x, y, z): return x + y + z"
   ]
  },
  {
   "cell_type": "code",
   "execution_count": null,
   "metadata": {},
   "outputs": [],
   "source": [
    "func(2, 3, 4)\n"
   ]
  },
  {
   "attachments": {},
   "cell_type": "markdown",
   "metadata": {},
   "source": [
    "Here, f is assigned the function object the lambda expression creates.</br>\n",
    "This is how def works, too, but its assignment is automatic:"
   ]
  },
  {
   "cell_type": "code",
   "execution_count": null,
   "metadata": {},
   "outputs": [],
   "source": [
    "f = lambda x, y, z: x + y + z"
   ]
  },
  {
   "cell_type": "code",
   "execution_count": null,
   "metadata": {},
   "outputs": [],
   "source": [
    "f(2, 3, 4)"
   ]
  },
  {
   "attachments": {},
   "cell_type": "markdown",
   "metadata": {},
   "source": [
    "The code in a lambda body also follows the same scope lookup rules as code inside a def.</br> \n",
    "lambda expressions introduce a local scope much like a nested def, which automatically sees names in enclosing functions, the module, and the built-in scope"
   ]
  },
  {
   "cell_type": "code",
   "execution_count": null,
   "metadata": {},
   "outputs": [],
   "source": [
    "def knights():\n",
    "    title = 'python'\n",
    "    action = (lambda x: title + ' ' + x)\n",
    "    return action # return a function object"
   ]
  },
  {
   "cell_type": "code",
   "execution_count": null,
   "metadata": {},
   "outputs": [],
   "source": [
    "act = knights()"
   ]
  },
  {
   "cell_type": "code",
   "execution_count": null,
   "metadata": {},
   "outputs": [],
   "source": [
    "type(act)"
   ]
  },
  {
   "cell_type": "code",
   "execution_count": null,
   "metadata": {},
   "outputs": [],
   "source": [
    "act  # act: a function, not its result"
   ]
  },
  {
   "cell_type": "code",
   "execution_count": null,
   "metadata": {},
   "outputs": [],
   "source": [
    "knights # the difference"
   ]
  },
  {
   "cell_type": "code",
   "execution_count": null,
   "metadata": {},
   "outputs": [],
   "source": [
    "msg = act('programming')  # 'programming' passed to x"
   ]
  },
  {
   "cell_type": "code",
   "execution_count": null,
   "metadata": {},
   "outputs": [],
   "source": [
    "msg"
   ]
  },
  {
   "cell_type": "code",
   "execution_count": null,
   "metadata": {},
   "outputs": [],
   "source": [
    "act('programming') # direct call"
   ]
  },
  {
   "attachments": {},
   "cell_type": "markdown",
   "metadata": {},
   "source": [
    "Generally speaking, lambda comes in handy as a sort of function shorthand that allows you to embed a function’s definition within the code that uses it. They are entirely optional — you can always use def instead, and should if your function requires the power of full statements that the lambda’s expression cannot easily provide—but they tend to be simpler coding constructs in scenarios where you just need to embed small bits of executable code inline at the place it is to be used."
   ]
  },
  {
   "attachments": {},
   "cell_type": "markdown",
   "metadata": {},
   "source": [
    "lambda is also commonly used to code jump tables, which are lists or dictionaries of actions to be performed on demand."
   ]
  },
  {
   "cell_type": "code",
   "execution_count": null,
   "metadata": {},
   "outputs": [],
   "source": [
    "L = [lambda x: x ** 2, # Inline function definition\n",
    "    lambda x: x ** 3,\n",
    "    lambda x: x ** 4] # A list of three callable functions\n",
    "\n",
    "for f in L:\n",
    "    print(f(2)) # Prints 4, 8, 16\n",
    "    \n",
    "print(L[0](3)) # Prints 9"
   ]
  },
  {
   "attachments": {},
   "cell_type": "markdown",
   "metadata": {},
   "source": [
    "The lambda expression is most useful as a shorthand for def, when you need to stuff small pieces of executable code into places where statements are illegal syntactically. The preceding code snippet, for example, builds up a list of three functions by embedding lambda expressions inside a list literal.</br>\n",
    "A def won’t work inside a list literal like this because it is a statement, not an expression. The equivalent def coding would require temporary function names (which might clash with others) and function definitions outside the context of intended use (which might be hundreds of lines away):"
   ]
  },
  {
   "cell_type": "code",
   "execution_count": null,
   "metadata": {},
   "outputs": [],
   "source": [
    "def f1(x): return x ** 2\n",
    "def f2(x): return x ** 3 # Define named functions\n",
    "def f3(x): return x ** 4\n",
    "L = [f1, f2, f3] # Reference by name\n",
    "\n",
    "for f in L:\n",
    "    print(f(2)) # Prints 4, 8, 16\n",
    "    \n",
    "print(L[0](3)) # Prints 9"
   ]
  },
  {
   "attachments": {},
   "cell_type": "markdown",
   "metadata": {},
   "source": [
    "Multiway Branch Switches"
   ]
  },
  {
   "cell_type": "code",
   "execution_count": null,
   "metadata": {},
   "outputs": [],
   "source": [
    "key = 3"
   ]
  },
  {
   "cell_type": "code",
   "execution_count": null,
   "metadata": {},
   "outputs": [],
   "source": [
    "dict1 = {   1: (lambda: 'python'),\n",
    "            2: (lambda: 'code'),\n",
    "            3: (lambda: 'executed')}\n",
    "dict2 = {1:'python', 2:'code',3:'executed'}"
   ]
  },
  {
   "cell_type": "code",
   "execution_count": null,
   "metadata": {},
   "outputs": [],
   "source": [
    "print(type(dict1))\n",
    "print(type(dict2))"
   ]
  },
  {
   "cell_type": "code",
   "execution_count": null,
   "metadata": {},
   "outputs": [],
   "source": [
    "dict1"
   ]
  },
  {
   "cell_type": "code",
   "execution_count": null,
   "metadata": {},
   "outputs": [],
   "source": [
    "dict2"
   ]
  },
  {
   "cell_type": "code",
   "execution_count": null,
   "metadata": {},
   "outputs": [],
   "source": [
    "key = 3\n",
    "dict1[key]"
   ]
  },
  {
   "cell_type": "code",
   "execution_count": null,
   "metadata": {},
   "outputs": [],
   "source": [
    "dict2[key]"
   ]
  },
  {
   "cell_type": "code",
   "execution_count": null,
   "metadata": {},
   "outputs": [],
   "source": [
    "dict1[key]()"
   ]
  },
  {
   "attachments": {},
   "cell_type": "markdown",
   "metadata": {},
   "source": [
    "To do the same with def, the approach will be:"
   ]
  },
  {
   "cell_type": "code",
   "execution_count": null,
   "metadata": {},
   "outputs": [],
   "source": [
    "def f1(): return 'python'\n",
    "def f2(): return 'code'\n",
    "def f3(): return 'executed'\n",
    "{1: f1, 2: f2, 3: f3}[key]()"
   ]
  },
  {
   "attachments": {},
   "cell_type": "markdown",
   "metadata": {},
   "source": [
    "Selection logic within a lambda function:"
   ]
  },
  {
   "cell_type": "code",
   "execution_count": null,
   "metadata": {},
   "outputs": [],
   "source": [
    "lower = (lambda x, y: x if x < y else y)\n",
    "lower(55, 77)"
   ]
  },
  {
   "attachments": {},
   "cell_type": "markdown",
   "metadata": {},
   "source": [
    "Nested lambda"
   ]
  },
  {
   "attachments": {},
   "cell_type": "markdown",
   "metadata": {},
   "source": [
    "lambdas are the main beneficiaries of nested function scope lookup.</br>\n",
    "As a review, in the following the lambda appears inside a def—the typical case—and so can access the value that the name x had in the\n",
    "enclosing function’s scope at the time that the enclosing function was called:"
   ]
  },
  {
   "cell_type": "code",
   "execution_count": null,
   "metadata": {},
   "outputs": [],
   "source": [
    "def action(x):\n",
    "    return (lambda y: x + y) # Make and return function, remember x\n",
    "act = action(99)\n",
    "act"
   ]
  },
  {
   "cell_type": "code",
   "execution_count": null,
   "metadata": {},
   "outputs": [],
   "source": [
    "act = action(99)(1)\n",
    "act"
   ]
  },
  {
   "cell_type": "code",
   "execution_count": null,
   "metadata": {},
   "outputs": [],
   "source": [
    "act(1)"
   ]
  },
  {
   "attachments": {},
   "cell_type": "markdown",
   "metadata": {},
   "source": [
    "lambda also has access to the names in any enclosing lambda."
   ]
  },
  {
   "cell_type": "code",
   "execution_count": null,
   "metadata": {},
   "outputs": [],
   "source": [
    "action = (lambda x: (lambda y: x - y))\n",
    "print(action)\n",
    "act = action(5)\n",
    "print(act)\n",
    "act(2)"
   ]
  },
  {
   "cell_type": "code",
   "execution_count": null,
   "metadata": {},
   "outputs": [],
   "source": [
    "((lambda x: (lambda y: x - y))(5))(2)"
   ]
  },
  {
   "attachments": {},
   "cell_type": "markdown",
   "metadata": {},
   "source": [
    "Here, the nested lambda structure makes a function that makes a function when called.</br>\n",
    "In both cases, the nested lambda’s code has access to the variable x in the enclosing lambda.</br> \n",
    "This works, but it seems fairly convoluted code; in the interest of readability, nested lambdas are generally best avoided."
   ]
  },
  {
   "attachments": {},
   "cell_type": "markdown",
   "metadata": {},
   "source": [
    "Time to Code"
   ]
  },
  {
   "attachments": {},
   "cell_type": "markdown",
   "metadata": {},
   "source": [
    "- Lets take two variables x and y.\n",
    "- First, find the square of x, i.e. x^2.\n",
    "- Second, find the yth power of (x^2), i.e. (x^2)^y.\n",
    "- Do the entire calculation using a single lamdba function."
   ]
  },
  {
   "cell_type": "code",
   "execution_count": null,
   "metadata": {},
   "outputs": [],
   "source": [
    "# code\n",
    "cal =  (lambda x:  lambda y : (x**2)**y)\n",
    "cal(2)(3)"
   ]
  },
  {
   "cell_type": "markdown",
   "metadata": {},
   "source": [
    "Keeping it simple: To pass an argument to a lambda function, execute it, and return the result, we should use the following syntax:"
   ]
  },
  {
   "cell_type": "code",
   "execution_count": null,
   "metadata": {},
   "outputs": [],
   "source": [
    "print((lambda x: x + 1)(2))\n",
    "print((lambda x, y, z: x + y + z)(1, 2, 3))"
   ]
  },
  {
   "cell_type": "markdown",
   "metadata": {},
   "source": [
    "Write the following code using lammbda:"
   ]
  },
  {
   "cell_type": "code",
   "execution_count": null,
   "metadata": {},
   "outputs": [],
   "source": [
    "val = 20"
   ]
  },
  {
   "cell_type": "code",
   "execution_count": null,
   "metadata": {},
   "outputs": [],
   "source": [
    "def func(x):\n",
    "    if x > 5:\n",
    "        return x - 1\n",
    "    elif x < 5:\n",
    "        return x + 1\n",
    "    else:\n",
    "        return x\n",
    "    \n",
    "func(val)"
   ]
  },
  {
   "cell_type": "code",
   "execution_count": null,
   "metadata": {},
   "outputs": [],
   "source": [
    "(lambda x: x - 1 if x > 5 else ( x - 1 if x < 5 else x))(val)"
   ]
  },
  {
   "cell_type": "markdown",
   "metadata": {},
   "source": [
    "Use of filter"
   ]
  },
  {
   "cell_type": "markdown",
   "metadata": {},
   "source": [
    "We use the filter() function in Python to select certain items from an iterable (like lists, sets, tuples, Series, etc.) based on predefined criteria. It takes two arguments:\n",
    "\n",
    "* A function that defines the filtering criteria\n",
    "* An iterable on which the function runs"
   ]
  },
  {
   "cell_type": "markdown",
   "metadata": {},
   "source": [
    "To get a new iterable from the filter object, with all the items from the original iterable that satisfy the predefined criteria, we need to pass the filter object to the corresponding function of the Python standard library: list(), tuple(), set(), frozenset(), or sorted()"
   ]
  },
  {
   "cell_type": "code",
   "execution_count": 2,
   "metadata": {},
   "outputs": [],
   "source": [
    "marks = [10, 20 , 5, 30, 38, 17, 25]"
   ]
  },
  {
   "cell_type": "markdown",
   "metadata": {},
   "source": [
    "Find the scores that are greater than 20."
   ]
  },
  {
   "cell_type": "code",
   "execution_count": 3,
   "metadata": {},
   "outputs": [
    {
     "name": "stdout",
     "output_type": "stream",
     "text": [
      "[30, 38, 25]\n",
      "[]\n"
     ]
    }
   ],
   "source": [
    "obj = filter(lambda x: x > 20, marks)\n",
    "print(list(obj))\n",
    "print(list(obj)) # cannot be used twice"
   ]
  },
  {
   "cell_type": "markdown",
   "metadata": {},
   "source": [
    "Use of map()"
   ]
  },
  {
   "cell_type": "markdown",
   "metadata": {},
   "source": [
    "We use the map() function in Python to perform a certain operation on each item of an iterable. Its syntax is identical to filter(): a function to perform and an iterable to which this function applies. The map() function returns a map object, from which we can get a new iterable by passing this object to the corresponding Python function: list(), tuple(), set(), frozenset(), or sorted()."
   ]
  },
  {
   "cell_type": "markdown",
   "metadata": {},
   "source": [
    "One important difference between the map() and filter() functions is that the first one always returns an iterable of the same lenth as the original one."
   ]
  },
  {
   "cell_type": "code",
   "execution_count": 4,
   "metadata": {},
   "outputs": [],
   "source": [
    "marks = [10, 20 , 5, 30, 38, 17, 25]"
   ]
  },
  {
   "cell_type": "code",
   "execution_count": 5,
   "metadata": {},
   "outputs": [
    {
     "name": "stdout",
     "output_type": "stream",
     "text": [
      "[12, 22, 7, 32, 40, 19, 27]\n",
      "[]\n"
     ]
    }
   ],
   "source": [
    "obj = map(lambda x: x + 2, marks)\n",
    "print(list(obj))\n",
    "print(list(obj)) # cannot be used twice"
   ]
  },
  {
   "cell_type": "markdown",
   "metadata": {},
   "source": [
    "Use of reduce()"
   ]
  },
  {
   "cell_type": "markdown",
   "metadata": {},
   "source": [
    "The reduce() function is related to the functools Python module, and it works in the following way:\n",
    "\n",
    "* Operates on the first two items of an iterable and saves the result\n",
    "* Operates on the saved result and the next item of the iterable\n",
    "* Proceeds in this way over the pairs of values until all the items of\n",
    "* the iterable are used"
   ]
  },
  {
   "cell_type": "code",
   "execution_count": 8,
   "metadata": {},
   "outputs": [
    {
     "data": {
      "text/plain": [
       "145"
      ]
     },
     "execution_count": 8,
     "metadata": {},
     "output_type": "execute_result"
    }
   ],
   "source": [
    "from functools import reduce\n",
    "marks = [10, 20 , 5, 30, 38, 17, 25]\n",
    "reduce(lambda x, y: x + y, marks)"
   ]
  },
  {
   "cell_type": "markdown",
   "metadata": {},
   "source": [
    "Exercise"
   ]
  },
  {
   "cell_type": "code",
   "execution_count": 53,
   "metadata": {},
   "outputs": [],
   "source": [
    "list_stud = []"
   ]
  },
  {
   "cell_type": "code",
   "execution_count": 54,
   "metadata": {},
   "outputs": [
    {
     "data": {
      "text/plain": [
       "[{'name': 'alice', 'marks1': 0},\n",
       " {'name': 'bob', 'marks1': 0},\n",
       " {'name': 'dave', 'marks1': 0}]"
      ]
     },
     "execution_count": 54,
     "metadata": {},
     "output_type": "execute_result"
    }
   ],
   "source": [
    "stud = {\n",
    "    \"name\" : \"alice\",\n",
    "    \"marks1\" : 0\n",
    "}\n",
    "list_stud.append(stud)\n",
    "stud = {\n",
    "    \"name\" : \"bob\",\n",
    "    \"marks1\" : 0\n",
    "}\n",
    "list_stud.append(stud)\n",
    "stud = {\n",
    "    \"name\" : \"dave\",\n",
    "    \"marks1\" : 0\n",
    "}\n",
    "list_stud.append(stud)\n",
    "\n",
    "list_stud"
   ]
  },
  {
   "cell_type": "code",
   "execution_count": 55,
   "metadata": {},
   "outputs": [
    {
     "data": {
      "text/plain": [
       "[{'name': 'alice', 'marks1': 25},\n",
       " {'name': 'bob', 'marks1': 27},\n",
       " {'name': 'dave', 'marks1': 30}]"
      ]
     },
     "execution_count": 55,
     "metadata": {},
     "output_type": "execute_result"
    }
   ],
   "source": [
    "list_stud[0][\"marks1\"] = 25\n",
    "list_stud[1][\"marks1\"] = 27\n",
    "list_stud[2][\"marks1\"] = 30\n",
    "\n",
    "list_stud"
   ]
  },
  {
   "cell_type": "code",
   "execution_count": 56,
   "metadata": {},
   "outputs": [
    {
     "data": {
      "text/plain": [
       "[{'name': 'alice', 'marks1': 25, 'marks2': 35},\n",
       " {'name': 'bob', 'marks1': 27, 'marks2': 34},\n",
       " {'name': 'dave', 'marks1': 30, 'marks2': 38}]"
      ]
     },
     "execution_count": 56,
     "metadata": {},
     "output_type": "execute_result"
    }
   ],
   "source": [
    "list_stud[0][\"marks2\"] = 35\n",
    "list_stud[1][\"marks2\"] = 34\n",
    "list_stud[2][\"marks2\"] = 38\n",
    "\n",
    "list_stud"
   ]
  },
  {
   "cell_type": "code",
   "execution_count": 57,
   "metadata": {},
   "outputs": [
    {
     "data": {
      "text/plain": [
       "[[25, 27, 30], [35, 34, 38]]"
      ]
     },
     "execution_count": 57,
     "metadata": {},
     "output_type": "execute_result"
    }
   ],
   "source": [
    "marks_list = []\n",
    "temp = []\n",
    "for i in range(len(list_stud)):\n",
    "    temp.append(list_stud[i][\"marks1\"])\n",
    "marks_list.append(temp)\n",
    "temp = []\n",
    "for i in range(len(list_stud)):\n",
    "    temp.append(list_stud[i][\"marks2\"])\n",
    "marks_list.append(temp)\n",
    "marks_list"
   ]
  },
  {
   "cell_type": "code",
   "execution_count": 58,
   "metadata": {},
   "outputs": [
    {
     "data": {
      "text/plain": [
       "[[27, 29, 32], [35, 34, 38]]"
      ]
     },
     "execution_count": 58,
     "metadata": {},
     "output_type": "execute_result"
    }
   ],
   "source": [
    "obj = map(lambda x: x + 2, marks_list[0])\n",
    "marks_list[0] =list(obj)\n",
    "marks_list"
   ]
  },
  {
   "cell_type": "code",
   "execution_count": 63,
   "metadata": {},
   "outputs": [
    {
     "data": {
      "text/plain": [
       "[[27, 29, 32], [35, 35, 35]]"
      ]
     },
     "execution_count": 63,
     "metadata": {},
     "output_type": "execute_result"
    }
   ],
   "source": [
    "from functools import reduce\n",
    "\n",
    "val = reduce(lambda x, y : x + y, marks_list[1])\n",
    "marks_list[1] = [int(val//len(marks_list[1])), int(val//len(marks_list[1])), int(val//len(marks_list[1]))]\n",
    "\n",
    "marks_list"
   ]
  },
  {
   "cell_type": "code",
   "execution_count": 64,
   "metadata": {},
   "outputs": [
    {
     "data": {
      "text/plain": [
       "[{'name': 'alice', 'marks1': 25, 'marks2': 35},\n",
       " {'name': 'bob', 'marks1': 27, 'marks2': 34},\n",
       " {'name': 'dave', 'marks1': 30, 'marks2': 38}]"
      ]
     },
     "execution_count": 64,
     "metadata": {},
     "output_type": "execute_result"
    }
   ],
   "source": [
    "list_stud"
   ]
  },
  {
   "cell_type": "code",
   "execution_count": 65,
   "metadata": {},
   "outputs": [
    {
     "data": {
      "text/plain": [
       "[{'name': 'alice', 'marks1': 27, 'marks2': 35},\n",
       " {'name': 'bob', 'marks1': 29, 'marks2': 35},\n",
       " {'name': 'dave', 'marks1': 32, 'marks2': 35}]"
      ]
     },
     "execution_count": 65,
     "metadata": {},
     "output_type": "execute_result"
    }
   ],
   "source": [
    "for i in range(len(list_stud)):\n",
    "    list_stud[i][\"marks1\"] = marks_list[0][i]\n",
    "    list_stud[i][\"marks2\"] = marks_list[1][i]\n",
    "list_stud"
   ]
  }
 ],
 "metadata": {
  "kernelspec": {
   "display_name": "Python 3 (ipykernel)",
   "language": "python",
   "name": "python3"
  },
  "language_info": {
   "codemirror_mode": {
    "name": "ipython",
    "version": 3
   },
   "file_extension": ".py",
   "mimetype": "text/x-python",
   "name": "python",
   "nbconvert_exporter": "python",
   "pygments_lexer": "ipython3",
   "version": "3.9.13"
  },
  "vscode": {
   "interpreter": {
    "hash": "5b96f42a614d9cb1b01409f0f56cb6d66f125719138aa3696e9fb24449f8109e"
   }
  }
 },
 "nbformat": 4,
 "nbformat_minor": 2
}
