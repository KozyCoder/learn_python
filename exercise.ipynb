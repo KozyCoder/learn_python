{
 "cells": [
  {
   "cell_type": "code",
   "execution_count": 30,
   "metadata": {},
   "outputs": [],
   "source": [
    "mylist = [1000,5,10000,12,7,21,500,-55550,15,2]"
   ]
  },
  {
   "cell_type": "code",
   "execution_count": 31,
   "metadata": {},
   "outputs": [
    {
     "name": "stdout",
     "output_type": "stream",
     "text": [
      "The required items are 10000 and 12 with index values 2 and 3 respectively\n"
     ]
    }
   ],
   "source": [
    "max = 0\n",
    "index = 0\n",
    "for i in range(len(mylist)-1):\n",
    "    if (mylist[i] + mylist[i+1]) > max:\n",
    "        max = (mylist[i] + mylist[i+1])\n",
    "        index = i\n",
    "print(f'The required items are {mylist[index]} and {mylist[index+1]} with index values {index} and {index+1} respectively')\n"
   ]
  },
  {
   "cell_type": "markdown",
   "metadata": {},
   "source": [
    "192.168.62.125/DH"
   ]
  },
  {
   "cell_type": "code",
   "execution_count": 33,
   "metadata": {},
   "outputs": [],
   "source": [
    "data = {\n",
    "    \"phy\": [50,70,90],\n",
    "    \"chem\": [50,50,90],\n",
    "    \"maths\": [70,70,80]\n",
    "}"
   ]
  },
  {
   "cell_type": "code",
   "execution_count": 36,
   "metadata": {},
   "outputs": [
    {
     "name": "stdout",
     "output_type": "stream",
     "text": [
      "[70.0, 63.333333333333336, 73.33333333333333]\n"
     ]
    }
   ],
   "source": [
    "mean = (lambda x,y,z : (x+y+z)/3)\n",
    "\n",
    "mean_p = mean(data[\"phy\"][0],data[\"phy\"][1],data[\"phy\"][2])\n",
    "mean_c = mean(data[\"chem\"][0],data[\"chem\"][1],data[\"chem\"][2])\n",
    "mean_m = mean(data[\"maths\"][0],data[\"maths\"][1],data[\"maths\"][2])\n",
    "\n",
    "mean = [mean_p, mean_c, mean_m]\n",
    "print(mean)"
   ]
  },
  {
   "cell_type": "code",
   "execution_count": null,
   "metadata": {},
   "outputs": [],
   "source": [
    "data = {\n",
    "    \"phy\": [50,70,90],\n",
    "    \"chem\": [50,50,90],\n",
    "    \"maths\": [70,70,80],\n",
    "    \"mean_pcm\" : [70, 63.33, 73.33]\n",
    "}"
   ]
  },
  {
   "cell_type": "code",
   "execution_count": 5,
   "metadata": {},
   "outputs": [],
   "source": [
    "def func(*args):\n",
    "    print(type(args))\n",
    "    return list(args)"
   ]
  },
  {
   "cell_type": "code",
   "execution_count": 6,
   "metadata": {},
   "outputs": [
    {
     "name": "stdout",
     "output_type": "stream",
     "text": [
      "<class 'tuple'>\n"
     ]
    },
    {
     "data": {
      "text/plain": [
       "[1, 2]"
      ]
     },
     "execution_count": 6,
     "metadata": {},
     "output_type": "execute_result"
    }
   ],
   "source": [
    "func(1,2)"
   ]
  }
 ],
 "metadata": {
  "kernelspec": {
   "display_name": "Python 3.9.12 ('base')",
   "language": "python",
   "name": "python3"
  },
  "language_info": {
   "codemirror_mode": {
    "name": "ipython",
    "version": 3
   },
   "file_extension": ".py",
   "mimetype": "text/x-python",
   "name": "python",
   "nbconvert_exporter": "python",
   "pygments_lexer": "ipython3",
   "version": "3.9.12"
  },
  "orig_nbformat": 4,
  "vscode": {
   "interpreter": {
    "hash": "5b96f42a614d9cb1b01409f0f56cb6d66f125719138aa3696e9fb24449f8109e"
   }
  }
 },
 "nbformat": 4,
 "nbformat_minor": 2
}
