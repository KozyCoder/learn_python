{
 "cells": [
  {
   "cell_type": "code",
   "execution_count": 1,
   "metadata": {},
   "outputs": [],
   "source": [
    "import random"
   ]
  },
  {
   "cell_type": "code",
   "execution_count": 2,
   "metadata": {},
   "outputs": [],
   "source": [
    "def getAnswer(num):\n",
    "    print(num)\n",
    "    if num>10 and num<15:\n",
    "        return \"Valid\"\n",
    "    elif num>5: \n",
    "        return \"Invalid\""
   ]
  },
  {
   "cell_type": "code",
   "execution_count": 8,
   "metadata": {},
   "outputs": [
    {
     "name": "stdout",
     "output_type": "stream",
     "text": [
      "2\n",
      "Out of range\n"
     ]
    }
   ],
   "source": [
    "return_val = getAnswer(random.randint(1, 20))\n",
    "if return_val == None:\n",
    "    print(\"Out of range\")\n",
    "else: print(return_val)"
   ]
  },
  {
   "cell_type": "code",
   "execution_count": 9,
   "metadata": {},
   "outputs": [],
   "source": [
    "def a():\n",
    "\tprint('a() starts')\n",
    "\tb()\n",
    "\td()\n",
    "\tprint('a() returns')\n",
    "\n",
    "def b():\n",
    "\tprint('b() starts')\n",
    "\tc()\n",
    "\tprint('b() returns')\n",
    "\n",
    "def c():\n",
    "\tprint('c() starts')\n",
    "\tprint('c() returns')\n",
    "\t\n",
    "def d():\n",
    "\tprint('d() starts')\n",
    "\tprint('d() returns')"
   ]
  },
  {
   "cell_type": "code",
   "execution_count": 10,
   "metadata": {},
   "outputs": [
    {
     "name": "stdout",
     "output_type": "stream",
     "text": [
      "a() starts\n",
      "b() starts\n",
      "c() starts\n",
      "c() returns\n",
      "b() returns\n",
      "d() starts\n",
      "d() returns\n",
      "a() returns\n"
     ]
    }
   ],
   "source": [
    "a()"
   ]
  },
  {
   "cell_type": "markdown",
   "metadata": {},
   "source": [
    "\n",
    "![call_stack](call_stack.png) "
   ]
  },
  {
   "cell_type": "markdown",
   "metadata": {},
   "source": [
    "Local and Global Scope"
   ]
  },
  {
   "cell_type": "markdown",
   "metadata": {},
   "source": [
    "Scopes matter for several reasons:\n",
    "* Code in the global scope, outside of all functions, cannot use any local variables.\n",
    "* However, code in a local scope can access global variables.\n",
    "* Code in a function’s local scope cannot use variables in any other local scope.\n",
    "* You can use the same name for different variables if they are in different scopes. That is, there can be a local variable named spam and a global variable also named spam."
   ]
  },
  {
   "cell_type": "code",
   "execution_count": 11,
   "metadata": {},
   "outputs": [
    {
     "name": "stdout",
     "output_type": "stream",
     "text": [
      "99\n"
     ]
    }
   ],
   "source": [
    "def spam():\n",
    "\teggs = 99\n",
    "\tbacon()\n",
    "\tprint(eggs)\n",
    "def bacon():\n",
    "\tham = 101\n",
    "\teggs = 0\n",
    "spam()"
   ]
  },
  {
   "cell_type": "code",
   "execution_count": 12,
   "metadata": {},
   "outputs": [
    {
     "name": "stdout",
     "output_type": "stream",
     "text": [
      "42\n",
      "42\n"
     ]
    }
   ],
   "source": [
    "def spam():\n",
    "    print(eggs)\n",
    "eggs = 42\n",
    "spam()\n",
    "print(eggs)"
   ]
  },
  {
   "cell_type": "markdown",
   "metadata": {},
   "source": [
    "Local and Global Variables with the Same Name"
   ]
  },
  {
   "cell_type": "markdown",
   "metadata": {},
   "source": [
    "How many variables are there in the below program?"
   ]
  },
  {
   "cell_type": "code",
   "execution_count": 13,
   "metadata": {},
   "outputs": [
    {
     "name": "stdout",
     "output_type": "stream",
     "text": [
      "bacon local\n",
      "spam local\n",
      "bacon local\n",
      "global\n"
     ]
    }
   ],
   "source": [
    "def spam():\n",
    "\teggs = 'spam local'\n",
    "\tprint(eggs)\n",
    "\n",
    "def bacon():\n",
    "\teggs = 'bacon local'\n",
    "\tprint(eggs)\n",
    "\tspam()\n",
    "\tprint(eggs)\n",
    "eggs = 'global'\n",
    "bacon()\n",
    "print(eggs)"
   ]
  },
  {
   "cell_type": "markdown",
   "metadata": {},
   "source": [
    "The *global* Statement"
   ]
  },
  {
   "cell_type": "code",
   "execution_count": 14,
   "metadata": {},
   "outputs": [
    {
     "name": "stdout",
     "output_type": "stream",
     "text": [
      "bacon local\n",
      "spam local\n",
      "bacon local\n",
      "spam local\n"
     ]
    }
   ],
   "source": [
    "def spam():\n",
    "\tglobal eggs\n",
    "\teggs = 'spam local'\n",
    "\tprint(eggs)\n",
    "\n",
    "def bacon():\n",
    "\teggs = 'bacon local'\n",
    "\tprint(eggs)\n",
    "\tspam()\n",
    "\tprint(eggs)\n",
    "eggs = 'global'\n",
    "bacon()\n",
    "print(eggs)"
   ]
  },
  {
   "cell_type": "markdown",
   "metadata": {},
   "source": [
    "There are four rules to tell whether a variable is in a local scope or\n",
    "global scope:\n",
    "* If a variable is being used in the global scope (that is, outside of all functions), then it is always a global variable.\n",
    "* If there is a global statement for that variable in a function, it is a global variable.\n",
    "* Otherwise, if the variable is used in an assignment statement in the function, it is a local variable.\n",
    "* But if the variable is not used in an assignment statement, it is a global variable"
   ]
  },
  {
   "cell_type": "code",
   "execution_count": 15,
   "metadata": {},
   "outputs": [
    {
     "name": "stdout",
     "output_type": "stream",
     "text": [
      "bacon\n"
     ]
    }
   ],
   "source": [
    "def spam():\n",
    "\tglobal eggs\n",
    "\teggs = 'spam'\n",
    "\tbacon()\n",
    "def bacon():\n",
    "\tglobal eggs\n",
    "\teggs = 'bacon' \n",
    "def ham():\n",
    "\teggs = 55\n",
    "\tspam() \n",
    "eggs = 50 \n",
    "ham()\n",
    "print(eggs)"
   ]
  }
 ],
 "metadata": {
  "kernelspec": {
   "display_name": "Python 3",
   "language": "python",
   "name": "python3"
  },
  "language_info": {
   "codemirror_mode": {
    "name": "ipython",
    "version": 3
   },
   "file_extension": ".py",
   "mimetype": "text/x-python",
   "name": "python",
   "nbconvert_exporter": "python",
   "pygments_lexer": "ipython3",
   "version": "3.9.13"
  }
 },
 "nbformat": 4,
 "nbformat_minor": 2
}
