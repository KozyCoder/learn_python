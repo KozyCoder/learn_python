{
 "cells": [
  {
   "cell_type": "markdown",
   "metadata": {},
   "source": [
    "Exercise"
   ]
  },
  {
   "cell_type": "code",
   "execution_count": 1,
   "metadata": {},
   "outputs": [],
   "source": [
    "list_stud = []"
   ]
  },
  {
   "cell_type": "code",
   "execution_count": 2,
   "metadata": {},
   "outputs": [
    {
     "data": {
      "text/plain": [
       "[{'name': 'alice', 'marks1': 0},\n",
       " {'name': 'bob', 'marks1': 0},\n",
       " {'name': 'dave', 'marks1': 0}]"
      ]
     },
     "execution_count": 2,
     "metadata": {},
     "output_type": "execute_result"
    }
   ],
   "source": [
    "stud = {\n",
    "    \"name\" : \"alice\",\n",
    "    \"marks1\" : 0\n",
    "}\n",
    "list_stud.append(stud)\n",
    "stud = {\n",
    "    \"name\" : \"bob\",\n",
    "    \"marks1\" : 0\n",
    "}\n",
    "list_stud.append(stud)\n",
    "stud = {\n",
    "    \"name\" : \"dave\",\n",
    "    \"marks1\" : 0\n",
    "}\n",
    "list_stud.append(stud)\n",
    "\n",
    "list_stud"
   ]
  },
  {
   "cell_type": "code",
   "execution_count": 3,
   "metadata": {},
   "outputs": [
    {
     "data": {
      "text/plain": [
       "[{'name': 'alice', 'marks1': 25},\n",
       " {'name': 'bob', 'marks1': 27},\n",
       " {'name': 'dave', 'marks1': 30}]"
      ]
     },
     "execution_count": 3,
     "metadata": {},
     "output_type": "execute_result"
    }
   ],
   "source": [
    "list_stud[0][\"marks1\"] = 25\n",
    "list_stud[1][\"marks1\"] = 27\n",
    "list_stud[2][\"marks1\"] = 30\n",
    "\n",
    "list_stud"
   ]
  },
  {
   "cell_type": "code",
   "execution_count": 4,
   "metadata": {},
   "outputs": [
    {
     "data": {
      "text/plain": [
       "[{'name': 'alice', 'marks1': 25, 'marks2': 35},\n",
       " {'name': 'bob', 'marks1': 27, 'marks2': 34},\n",
       " {'name': 'dave', 'marks1': 30, 'marks2': 38}]"
      ]
     },
     "execution_count": 4,
     "metadata": {},
     "output_type": "execute_result"
    }
   ],
   "source": [
    "list_stud[0][\"marks2\"] = 35\n",
    "list_stud[1][\"marks2\"] = 34\n",
    "list_stud[2][\"marks2\"] = 38\n",
    "\n",
    "list_stud"
   ]
  },
  {
   "cell_type": "code",
   "execution_count": 5,
   "metadata": {},
   "outputs": [
    {
     "data": {
      "text/plain": [
       "[[25, 27, 30], [35, 34, 38]]"
      ]
     },
     "execution_count": 5,
     "metadata": {},
     "output_type": "execute_result"
    }
   ],
   "source": [
    "marks_list = []\n",
    "temp = []\n",
    "for i in range(len(list_stud)):\n",
    "    temp.append(list_stud[i][\"marks1\"])\n",
    "marks_list.append(temp)\n",
    "temp = []\n",
    "for i in range(len(list_stud)):\n",
    "    temp.append(list_stud[i][\"marks2\"])\n",
    "marks_list.append(temp)\n",
    "marks_list"
   ]
  },
  {
   "cell_type": "code",
   "execution_count": 6,
   "metadata": {},
   "outputs": [
    {
     "data": {
      "text/plain": [
       "[[27, 29, 32], [35, 34, 38]]"
      ]
     },
     "execution_count": 6,
     "metadata": {},
     "output_type": "execute_result"
    }
   ],
   "source": [
    "obj = map(lambda x: x + 2, marks_list[0])\n",
    "marks_list[0] = list(obj)\n",
    "marks_list"
   ]
  },
  {
   "cell_type": "code",
   "execution_count": 8,
   "metadata": {},
   "outputs": [
    {
     "data": {
      "text/plain": [
       "[[27, 29, 32], [35, 35, 35]]"
      ]
     },
     "execution_count": 8,
     "metadata": {},
     "output_type": "execute_result"
    }
   ],
   "source": [
    "from functools import reduce\n",
    "\n",
    "val = reduce(lambda x, y : x + y, marks_list[1])\n",
    "marks_list[1] = [val//3, val//3, val//3]\n",
    "\n",
    "marks_list"
   ]
  },
  {
   "cell_type": "code",
   "execution_count": null,
   "metadata": {},
   "outputs": [],
   "source": [
    "list_stud"
   ]
  },
  {
   "cell_type": "code",
   "execution_count": null,
   "metadata": {},
   "outputs": [],
   "source": [
    "for i in range(len(list_stud)):\n",
    "    list_stud[i][\"marks1\"] = marks_list[0][i]\n",
    "    list_stud[i][\"marks2\"] = marks_list[1][i]\n",
    "list_stud"
   ]
  }
 ],
 "metadata": {
  "kernelspec": {
   "display_name": "Python 3 (ipykernel)",
   "language": "python",
   "name": "python3"
  },
  "language_info": {
   "codemirror_mode": {
    "name": "ipython",
    "version": 3
   },
   "file_extension": ".py",
   "mimetype": "text/x-python",
   "name": "python",
   "nbconvert_exporter": "python",
   "pygments_lexer": "ipython3",
   "version": "3.9.13"
  },
  "vscode": {
   "interpreter": {
    "hash": "5b96f42a614d9cb1b01409f0f56cb6d66f125719138aa3696e9fb24449f8109e"
   }
  }
 },
 "nbformat": 4,
 "nbformat_minor": 2
}
